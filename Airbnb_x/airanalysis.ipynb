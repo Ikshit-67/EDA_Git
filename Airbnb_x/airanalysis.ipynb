{
 "cells": [
  {
   "cell_type": "markdown",
   "metadata": {},
   "source": [
    "# 🏨 Airbnb Data Analytics "
   ]
  },
  {
   "cell_type": "markdown",
   "metadata": {},
   "source": [
    "## Importing Libraies"
   ]
  },
  {
   "cell_type": "code",
   "execution_count": 1,
   "metadata": {},
   "outputs": [],
   "source": [
    "import numpy as np\n",
    "import pandas as pd\n",
    "import matplotlib.pyplot as plt\n",
    "import seaborn as sns"
   ]
  },
  {
   "cell_type": "markdown",
   "metadata": {},
   "source": [
    "## Reading Data"
   ]
  },
  {
   "cell_type": "code",
   "execution_count": 2,
   "metadata": {},
   "outputs": [
    {
     "data": {
      "text/html": [
       "<div>\n",
       "<style scoped>\n",
       "    .dataframe tbody tr th:only-of-type {\n",
       "        vertical-align: middle;\n",
       "    }\n",
       "\n",
       "    .dataframe tbody tr th {\n",
       "        vertical-align: top;\n",
       "    }\n",
       "\n",
       "    .dataframe thead th {\n",
       "        text-align: right;\n",
       "    }\n",
       "</style>\n",
       "<table border=\"1\" class=\"dataframe\">\n",
       "  <thead>\n",
       "    <tr style=\"text-align: right;\">\n",
       "      <th></th>\n",
       "      <th>room_id</th>\n",
       "      <th>survey_id</th>\n",
       "      <th>host_id</th>\n",
       "      <th>room_type</th>\n",
       "      <th>country</th>\n",
       "      <th>city</th>\n",
       "      <th>borough</th>\n",
       "      <th>neighborhood</th>\n",
       "      <th>reviews</th>\n",
       "      <th>overall_satisfaction</th>\n",
       "      <th>accommodates</th>\n",
       "      <th>bedrooms</th>\n",
       "      <th>bathrooms</th>\n",
       "      <th>price</th>\n",
       "      <th>minstay</th>\n",
       "      <th>name</th>\n",
       "      <th>last_modified</th>\n",
       "      <th>latitude</th>\n",
       "      <th>longitude</th>\n",
       "      <th>location</th>\n",
       "    </tr>\n",
       "  </thead>\n",
       "  <tbody>\n",
       "    <tr>\n",
       "      <th>0</th>\n",
       "      <td>10176931</td>\n",
       "      <td>1476</td>\n",
       "      <td>49180562</td>\n",
       "      <td>Shared room</td>\n",
       "      <td>NaN</td>\n",
       "      <td>Amsterdam</td>\n",
       "      <td>NaN</td>\n",
       "      <td>De Pijp / Rivierenbuurt</td>\n",
       "      <td>7</td>\n",
       "      <td>4.5</td>\n",
       "      <td>2</td>\n",
       "      <td>1.0</td>\n",
       "      <td>NaN</td>\n",
       "      <td>156.0</td>\n",
       "      <td>NaN</td>\n",
       "      <td>Red Light/ Canal view apartment (Shared)</td>\n",
       "      <td>2017-07-23 13:06:27.391699</td>\n",
       "      <td>52.356209</td>\n",
       "      <td>4.887491</td>\n",
       "      <td>0101000020E610000033FAD170CA8C13403BC5AA41982D...</td>\n",
       "    </tr>\n",
       "    <tr>\n",
       "      <th>1</th>\n",
       "      <td>8935871</td>\n",
       "      <td>1476</td>\n",
       "      <td>46718394</td>\n",
       "      <td>Shared room</td>\n",
       "      <td>NaN</td>\n",
       "      <td>Amsterdam</td>\n",
       "      <td>NaN</td>\n",
       "      <td>Centrum West</td>\n",
       "      <td>45</td>\n",
       "      <td>4.5</td>\n",
       "      <td>4</td>\n",
       "      <td>1.0</td>\n",
       "      <td>NaN</td>\n",
       "      <td>126.0</td>\n",
       "      <td>NaN</td>\n",
       "      <td>Sunny and Cozy Living room in quite neighbours</td>\n",
       "      <td>2017-07-23 13:06:23.607187</td>\n",
       "      <td>52.378518</td>\n",
       "      <td>4.896120</td>\n",
       "      <td>0101000020E6100000842A357BA095134042791F477330...</td>\n",
       "    </tr>\n",
       "    <tr>\n",
       "      <th>2</th>\n",
       "      <td>14011697</td>\n",
       "      <td>1476</td>\n",
       "      <td>10346595</td>\n",
       "      <td>Shared room</td>\n",
       "      <td>NaN</td>\n",
       "      <td>Amsterdam</td>\n",
       "      <td>NaN</td>\n",
       "      <td>Watergraafsmeer</td>\n",
       "      <td>1</td>\n",
       "      <td>0.0</td>\n",
       "      <td>3</td>\n",
       "      <td>1.0</td>\n",
       "      <td>NaN</td>\n",
       "      <td>132.0</td>\n",
       "      <td>NaN</td>\n",
       "      <td>Amsterdam</td>\n",
       "      <td>2017-07-23 13:06:23.603546</td>\n",
       "      <td>52.338811</td>\n",
       "      <td>4.943592</td>\n",
       "      <td>0101000020E6100000A51133FB3CC613403543AA285E2B...</td>\n",
       "    </tr>\n",
       "    <tr>\n",
       "      <th>3</th>\n",
       "      <td>6137978</td>\n",
       "      <td>1476</td>\n",
       "      <td>8685430</td>\n",
       "      <td>Shared room</td>\n",
       "      <td>NaN</td>\n",
       "      <td>Amsterdam</td>\n",
       "      <td>NaN</td>\n",
       "      <td>Centrum West</td>\n",
       "      <td>7</td>\n",
       "      <td>5.0</td>\n",
       "      <td>4</td>\n",
       "      <td>1.0</td>\n",
       "      <td>NaN</td>\n",
       "      <td>121.0</td>\n",
       "      <td>NaN</td>\n",
       "      <td>Canal boat RIDE in Amsterdam</td>\n",
       "      <td>2017-07-23 13:06:22.689787</td>\n",
       "      <td>52.376319</td>\n",
       "      <td>4.890028</td>\n",
       "      <td>0101000020E6100000DF180280638F134085EE92382B30...</td>\n",
       "    </tr>\n",
       "    <tr>\n",
       "      <th>4</th>\n",
       "      <td>18630616</td>\n",
       "      <td>1476</td>\n",
       "      <td>70191803</td>\n",
       "      <td>Shared room</td>\n",
       "      <td>NaN</td>\n",
       "      <td>Amsterdam</td>\n",
       "      <td>NaN</td>\n",
       "      <td>De Baarsjes / Oud West</td>\n",
       "      <td>1</td>\n",
       "      <td>0.0</td>\n",
       "      <td>2</td>\n",
       "      <td>1.0</td>\n",
       "      <td>NaN</td>\n",
       "      <td>93.0</td>\n",
       "      <td>NaN</td>\n",
       "      <td>One room for rent in a three room appartment</td>\n",
       "      <td>2017-07-23 13:06:19.681469</td>\n",
       "      <td>52.370384</td>\n",
       "      <td>4.852873</td>\n",
       "      <td>0101000020E6100000CD902A8A57691340187B2FBE682F...</td>\n",
       "    </tr>\n",
       "  </tbody>\n",
       "</table>\n",
       "</div>"
      ],
      "text/plain": [
       "    room_id  survey_id   host_id    room_type  country       city  borough  \\\n",
       "0  10176931       1476  49180562  Shared room      NaN  Amsterdam      NaN   \n",
       "1   8935871       1476  46718394  Shared room      NaN  Amsterdam      NaN   \n",
       "2  14011697       1476  10346595  Shared room      NaN  Amsterdam      NaN   \n",
       "3   6137978       1476   8685430  Shared room      NaN  Amsterdam      NaN   \n",
       "4  18630616       1476  70191803  Shared room      NaN  Amsterdam      NaN   \n",
       "\n",
       "              neighborhood  reviews  overall_satisfaction  accommodates  \\\n",
       "0  De Pijp / Rivierenbuurt        7                   4.5             2   \n",
       "1             Centrum West       45                   4.5             4   \n",
       "2          Watergraafsmeer        1                   0.0             3   \n",
       "3             Centrum West        7                   5.0             4   \n",
       "4   De Baarsjes / Oud West        1                   0.0             2   \n",
       "\n",
       "   bedrooms  bathrooms  price  minstay  \\\n",
       "0       1.0        NaN  156.0      NaN   \n",
       "1       1.0        NaN  126.0      NaN   \n",
       "2       1.0        NaN  132.0      NaN   \n",
       "3       1.0        NaN  121.0      NaN   \n",
       "4       1.0        NaN   93.0      NaN   \n",
       "\n",
       "                                             name               last_modified  \\\n",
       "0        Red Light/ Canal view apartment (Shared)  2017-07-23 13:06:27.391699   \n",
       "1  Sunny and Cozy Living room in quite neighbours  2017-07-23 13:06:23.607187   \n",
       "2                                       Amsterdam  2017-07-23 13:06:23.603546   \n",
       "3                    Canal boat RIDE in Amsterdam  2017-07-23 13:06:22.689787   \n",
       "4    One room for rent in a three room appartment  2017-07-23 13:06:19.681469   \n",
       "\n",
       "    latitude  longitude                                           location  \n",
       "0  52.356209   4.887491  0101000020E610000033FAD170CA8C13403BC5AA41982D...  \n",
       "1  52.378518   4.896120  0101000020E6100000842A357BA095134042791F477330...  \n",
       "2  52.338811   4.943592  0101000020E6100000A51133FB3CC613403543AA285E2B...  \n",
       "3  52.376319   4.890028  0101000020E6100000DF180280638F134085EE92382B30...  \n",
       "4  52.370384   4.852873  0101000020E6100000CD902A8A57691340187B2FBE682F...  "
      ]
     },
     "execution_count": 2,
     "metadata": {},
     "output_type": "execute_result"
    }
   ],
   "source": [
    "df = pd.read_csv('airdata.csv')\n",
    "df.head()"
   ]
  },
  {
   "cell_type": "markdown",
   "metadata": {},
   "source": [
    "## Dropping Unwanted Columns"
   ]
  },
  {
   "cell_type": "code",
   "execution_count": 3,
   "metadata": {},
   "outputs": [
    {
     "data": {
      "text/html": [
       "<div>\n",
       "<style scoped>\n",
       "    .dataframe tbody tr th:only-of-type {\n",
       "        vertical-align: middle;\n",
       "    }\n",
       "\n",
       "    .dataframe tbody tr th {\n",
       "        vertical-align: top;\n",
       "    }\n",
       "\n",
       "    .dataframe thead th {\n",
       "        text-align: right;\n",
       "    }\n",
       "</style>\n",
       "<table border=\"1\" class=\"dataframe\">\n",
       "  <thead>\n",
       "    <tr style=\"text-align: right;\">\n",
       "      <th></th>\n",
       "      <th>room_id</th>\n",
       "      <th>host_id</th>\n",
       "      <th>room_type</th>\n",
       "      <th>neighborhood</th>\n",
       "      <th>reviews</th>\n",
       "      <th>overall_satisfaction</th>\n",
       "      <th>accommodates</th>\n",
       "      <th>bedrooms</th>\n",
       "      <th>price</th>\n",
       "      <th>name</th>\n",
       "      <th>latitude</th>\n",
       "      <th>longitude</th>\n",
       "    </tr>\n",
       "  </thead>\n",
       "  <tbody>\n",
       "    <tr>\n",
       "      <th>0</th>\n",
       "      <td>10176931</td>\n",
       "      <td>49180562</td>\n",
       "      <td>Shared room</td>\n",
       "      <td>De Pijp / Rivierenbuurt</td>\n",
       "      <td>7</td>\n",
       "      <td>4.5</td>\n",
       "      <td>2</td>\n",
       "      <td>1.0</td>\n",
       "      <td>156.0</td>\n",
       "      <td>Red Light/ Canal view apartment (Shared)</td>\n",
       "      <td>52.356209</td>\n",
       "      <td>4.887491</td>\n",
       "    </tr>\n",
       "    <tr>\n",
       "      <th>1</th>\n",
       "      <td>8935871</td>\n",
       "      <td>46718394</td>\n",
       "      <td>Shared room</td>\n",
       "      <td>Centrum West</td>\n",
       "      <td>45</td>\n",
       "      <td>4.5</td>\n",
       "      <td>4</td>\n",
       "      <td>1.0</td>\n",
       "      <td>126.0</td>\n",
       "      <td>Sunny and Cozy Living room in quite neighbours</td>\n",
       "      <td>52.378518</td>\n",
       "      <td>4.896120</td>\n",
       "    </tr>\n",
       "    <tr>\n",
       "      <th>2</th>\n",
       "      <td>14011697</td>\n",
       "      <td>10346595</td>\n",
       "      <td>Shared room</td>\n",
       "      <td>Watergraafsmeer</td>\n",
       "      <td>1</td>\n",
       "      <td>0.0</td>\n",
       "      <td>3</td>\n",
       "      <td>1.0</td>\n",
       "      <td>132.0</td>\n",
       "      <td>Amsterdam</td>\n",
       "      <td>52.338811</td>\n",
       "      <td>4.943592</td>\n",
       "    </tr>\n",
       "    <tr>\n",
       "      <th>3</th>\n",
       "      <td>6137978</td>\n",
       "      <td>8685430</td>\n",
       "      <td>Shared room</td>\n",
       "      <td>Centrum West</td>\n",
       "      <td>7</td>\n",
       "      <td>5.0</td>\n",
       "      <td>4</td>\n",
       "      <td>1.0</td>\n",
       "      <td>121.0</td>\n",
       "      <td>Canal boat RIDE in Amsterdam</td>\n",
       "      <td>52.376319</td>\n",
       "      <td>4.890028</td>\n",
       "    </tr>\n",
       "    <tr>\n",
       "      <th>4</th>\n",
       "      <td>18630616</td>\n",
       "      <td>70191803</td>\n",
       "      <td>Shared room</td>\n",
       "      <td>De Baarsjes / Oud West</td>\n",
       "      <td>1</td>\n",
       "      <td>0.0</td>\n",
       "      <td>2</td>\n",
       "      <td>1.0</td>\n",
       "      <td>93.0</td>\n",
       "      <td>One room for rent in a three room appartment</td>\n",
       "      <td>52.370384</td>\n",
       "      <td>4.852873</td>\n",
       "    </tr>\n",
       "  </tbody>\n",
       "</table>\n",
       "</div>"
      ],
      "text/plain": [
       "    room_id   host_id    room_type             neighborhood  reviews  \\\n",
       "0  10176931  49180562  Shared room  De Pijp / Rivierenbuurt        7   \n",
       "1   8935871  46718394  Shared room             Centrum West       45   \n",
       "2  14011697  10346595  Shared room          Watergraafsmeer        1   \n",
       "3   6137978   8685430  Shared room             Centrum West        7   \n",
       "4  18630616  70191803  Shared room   De Baarsjes / Oud West        1   \n",
       "\n",
       "   overall_satisfaction  accommodates  bedrooms  price  \\\n",
       "0                   4.5             2       1.0  156.0   \n",
       "1                   4.5             4       1.0  126.0   \n",
       "2                   0.0             3       1.0  132.0   \n",
       "3                   5.0             4       1.0  121.0   \n",
       "4                   0.0             2       1.0   93.0   \n",
       "\n",
       "                                             name   latitude  longitude  \n",
       "0        Red Light/ Canal view apartment (Shared)  52.356209   4.887491  \n",
       "1  Sunny and Cozy Living room in quite neighbours  52.378518   4.896120  \n",
       "2                                       Amsterdam  52.338811   4.943592  \n",
       "3                    Canal boat RIDE in Amsterdam  52.376319   4.890028  \n",
       "4    One room for rent in a three room appartment  52.370384   4.852873  "
      ]
     },
     "execution_count": 3,
     "metadata": {},
     "output_type": "execute_result"
    }
   ],
   "source": [
    "df = df.drop(columns = ['survey_id', 'country', 'city', 'borough', 'bathrooms', 'minstay', 'last_modified', 'location'])\n",
    "df.head()"
   ]
  },
  {
   "cell_type": "code",
   "execution_count": 4,
   "metadata": {},
   "outputs": [
    {
     "data": {
      "text/plain": [
       "(18723, 12)"
      ]
     },
     "execution_count": 4,
     "metadata": {},
     "output_type": "execute_result"
    }
   ],
   "source": [
    "df.shape"
   ]
  },
  {
   "cell_type": "markdown",
   "metadata": {},
   "source": [
    "## 🏘 Exploring Neighborhoods Column"
   ]
  },
  {
   "cell_type": "code",
   "execution_count": 5,
   "metadata": {},
   "outputs": [
    {
     "data": {
      "text/plain": [
       "23"
      ]
     },
     "execution_count": 5,
     "metadata": {},
     "output_type": "execute_result"
    }
   ],
   "source": [
    "neighborhoods = df.neighborhood.unique()\n",
    "total_neighborhoods = len(neighborhoods)\n",
    "total_neighborhoods"
   ]
  },
  {
   "cell_type": "markdown",
   "metadata": {},
   "source": [
    "There are total of 23 neighborhoods in Amsterdam"
   ]
  },
  {
   "cell_type": "markdown",
   "metadata": {},
   "source": [
    "### Neighborhood 🏘 V/s Prices 💵"
   ]
  },
  {
   "cell_type": "code",
   "execution_count": 6,
   "metadata": {},
   "outputs": [
    {
     "data": {
      "text/plain": [
       "<AxesSubplot:xlabel='price', ylabel='neighborhood'>"
      ]
     },
     "execution_count": 6,
     "metadata": {},
     "output_type": "execute_result"
    },
    {
     "data": {
      "image/png": "[encoded data removed]",
      "text/plain": [
       "<Figure size 936x648 with 1 Axes>"
      ]
     },
     "metadata": {
      "needs_background": "light"
     },
     "output_type": "display_data"
    }
   ],
   "source": [
    "fig, ax = plt.subplots(figsize=(13, 9))\n",
    "sns.barplot(data = df, y = \"neighborhood\", x = \"price\", ax = ax, orient = \"h\")"
   ]
  },
  {
   "cell_type": "markdown",
   "metadata": {},
   "source": [
    "### Neighborhood 🏘 V/s Reviews ⭐️"
   ]
  },
  {
   "cell_type": "code",
   "execution_count": 7,
   "metadata": {},
   "outputs": [
    {
     "name": "stdout",
     "output_type": "stream",
     "text": [
      "De Pijp / Rivierenbuurt : 35627\n",
      "Centrum West : 52115\n",
      "Watergraafsmeer : 6329\n",
      "De Baarsjes / Oud West : 52823\n",
      "Oostelijk Havengebied / Indische Buurt : 13284\n",
      "Westerpark : 23433\n",
      "Oud Oost : 15615\n",
      "Centrum Oost : 37221\n",
      "Geuzenveld / Slotermeer : 3080\n",
      "Buitenveldert / Zuidas : 2818\n",
      "Oud Noord : 8666\n",
      "Bos en Lommer : 15481\n",
      "Slotervaart : 5425\n",
      "Bijlmer Centrum : 1563\n",
      "Ijburg / Eiland Zeeburg : 4598\n",
      "Noord-West / Noord-Midden : 19097\n",
      "De Aker / Nieuw Sloten : 3128\n",
      "Noord West : 4617\n",
      "Bijlmer Oost : 1462\n",
      "Osdorp : 2788\n",
      "Noord Oost : 3624\n",
      "Gaasperdam / Driemond : 450\n",
      "Westpoort : 208\n"
     ]
    }
   ],
   "source": [
    "neighborhood_list = df['neighborhood'].unique()\n",
    "group_by_neighborhood = df.groupby('neighborhood')\n",
    "total_reviews_list = []\n",
    "for i in neighborhood_list:\n",
    "    neighborhood = group_by_neighborhood.get_group(i)\n",
    "    total_reviews = neighborhood['reviews'].sum()\n",
    "    total_reviews_list.append(total_reviews)\n",
    "    print(i,\":\",total_reviews)"
   ]
  },
  {
   "cell_type": "code",
   "execution_count": 8,
   "metadata": {},
   "outputs": [
    {
     "data": {
      "text/plain": [
       "<AxesSubplot:xlabel='total_reviews', ylabel='neighborhood'>"
      ]
     },
     "execution_count": 8,
     "metadata": {},
     "output_type": "execute_result"
    },
    {
     "data": {
      "image/png": "[encoded data removed]",
      "text/plain": [
       "<Figure size 936x648 with 1 Axes>"
      ]
     },
     "metadata": {
      "needs_background": "light"
     },
     "output_type": "display_data"
    }
   ],
   "source": [
    "data = {\"neighborhood\" : neighborhood_list, \"total_reviews\" : total_reviews_list}\n",
    "reviews_df = pd.DataFrame(data)\n",
    "fig, ax = plt.subplots(figsize=(13, 9))\n",
    "sns.barplot(data = reviews_df, y = \"neighborhood\", x = \"total_reviews\", ax = ax, orient = \"h\")"
   ]
  },
  {
   "cell_type": "code",
   "execution_count": 9,
   "metadata": {},
   "outputs": [
    {
     "data": {
      "text/plain": [
       "De Baarsjes / Oud West                    3289\n",
       "De Pijp / Rivierenbuurt                   2378\n",
       "Centrum West                              2225\n",
       "Centrum Oost                              1730\n",
       "Westerpark                                1430\n",
       "Noord-West / Noord-Midden                 1418\n",
       "Oud Oost                                  1169\n",
       "Bos en Lommer                              988\n",
       "Oostelijk Havengebied / Indische Buurt     921\n",
       "Watergraafsmeer                            517\n",
       "Oud Noord                                  494\n",
       "Ijburg / Eiland Zeeburg                    378\n",
       "Slotervaart                                349\n",
       "Buitenveldert / Zuidas                     250\n",
       "Noord West                                 241\n",
       "Noord Oost                                 221\n",
       "Geuzenveld / Slotermeer                    195\n",
       "Osdorp                                     163\n",
       "De Aker / Nieuw Sloten                     114\n",
       "Bijlmer Centrum                             99\n",
       "Bijlmer Oost                                97\n",
       "Gaasperdam / Driemond                       42\n",
       "Westpoort                                   15\n",
       "Name: neighborhood, dtype: int64"
      ]
     },
     "execution_count": 9,
     "metadata": {},
     "output_type": "execute_result"
    }
   ],
   "source": [
    "df['neighborhood'].value_counts()"
   ]
  },
  {
   "cell_type": "code",
   "execution_count": 12,
   "metadata": {},
   "outputs": [
    {
     "data": {
      "text/plain": [
       "23"
      ]
     },
     "execution_count": 12,
     "metadata": {},
     "output_type": "execute_result"
    }
   ],
   "source": [
    "len(df['neighborhood'].unique())"
   ]
  },
  {
   "cell_type": "code",
   "execution_count": null,
   "metadata": {},
   "outputs": [],
   "source": []
  }
 ],
 "metadata": {
  "kernelspec": {
   "display_name": "Python 3.10.4 ('ml')",
   "language": "python",
   "name": "python3"
  },
  "language_info": {
   "codemirror_mode": {
    "name": "ipython",
    "version": 3
   },
   "file_extension": ".py",
   "mimetype": "text/x-python",
   "name": "python",
   "nbconvert_exporter": "python",
   "pygments_lexer": "ipython3",
   "version": "3.10.4"
  },
  "orig_nbformat": 4,
  "vscode": {
   "interpreter": {
    "hash": "31d7989649452b8ff5b252a3e34caf45e4ffd8a5787fe28fc2ce0245f11b7782"
   }
  }
 },
 "nbformat": 4,
 "nbformat_minor": 2
}
